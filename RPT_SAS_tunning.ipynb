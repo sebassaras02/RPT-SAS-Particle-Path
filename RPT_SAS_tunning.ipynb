{
  "nbformat": 4,
  "nbformat_minor": 0,
  "metadata": {
    "colab": {
      "provenance": [],
      "collapsed_sections": []
    },
    "kernelspec": {
      "name": "python3",
      "display_name": "Python 3"
    },
    "language_info": {
      "name": "python"
    },
    "accelerator": "GPU"
  },
  "cells": [
    {
      "cell_type": "code",
      "execution_count": 1,
      "metadata": {
        "id": "bbGrd2soyGRB"
      },
      "outputs": [],
      "source": [
        "# import basic modules \n",
        "import numpy as np \n",
        "import pandas as pd\n",
        "import matplotlib.pyplot as plt"
      ]
    },
    {
      "cell_type": "code",
      "source": [
        "from google.colab import drive\n",
        "drive.mount('/content/drive')"
      ],
      "metadata": {
        "colab": {
          "base_uri": "https://localhost:8080/"
        },
        "id": "7vOpOg7pySxZ",
        "outputId": "3ed849f3-3878-447f-c535-0d5178d43949"
      },
      "execution_count": 2,
      "outputs": [
        {
          "output_type": "stream",
          "name": "stdout",
          "text": [
            "Mounted at /content/drive\n"
          ]
        }
      ]
    },
    {
      "cell_type": "markdown",
      "source": [
        "Read data"
      ],
      "metadata": {
        "id": "wcqzqk30DNU8"
      }
    },
    {
      "cell_type": "code",
      "source": [
        "array_total = pd.read_csv('/content/drive/MyDrive/RPT_SAS/Array'+str(3)+'.csv', index_col = 0)"
      ],
      "metadata": {
        "id": "IG1peSBJDOS_"
      },
      "execution_count": 3,
      "outputs": []
    },
    {
      "cell_type": "code",
      "source": [
        "array_total"
      ],
      "metadata": {
        "colab": {
          "base_uri": "https://localhost:8080/",
          "height": 424
        },
        "id": "9K_WmtVnDckJ",
        "outputId": "5952e252-1749-4240-da28-1a5d56e26b0f"
      },
      "execution_count": 4,
      "outputs": [
        {
          "output_type": "execute_result",
          "data": {
            "text/plain": [
              "              x         y         z    Det-1  Det-2   Det-3   Det-4\n",
              "0      0.000000  0.107288  0.100000  99892.0   67.0    62.0     0.0\n",
              "1      0.005025  0.107287  0.100519  62935.0   71.0    47.0     1.0\n",
              "2      0.010050  0.107284  0.101038  76964.0   66.0    62.0     1.0\n",
              "3      0.015075  0.107279  0.101556  53398.0   82.0    49.0     1.0\n",
              "4      0.020101  0.107273  0.102074  60564.0   68.0    59.0     1.0\n",
              "...         ...       ...       ...      ...    ...     ...     ...\n",
              "10995  0.234773  0.152628  0.061698    289.0  225.0   689.0     1.0\n",
              "10996  0.504409  0.083876  0.035433      8.0  669.0  8197.0     7.0\n",
              "10997  0.733244  0.060354  0.038693      1.0  235.0  1266.0   166.0\n",
              "10998  0.871950  0.121176  0.182642      1.0  733.0    76.0  1368.0\n",
              "10999  0.201311  0.122852  0.030850    437.0  134.0   892.0     2.0\n",
              "\n",
              "[11000 rows x 7 columns]"
            ],
            "text/html": [
              "\n",
              "  <div id=\"df-798e6804-c869-4e81-8fe9-d05b8eaec81f\">\n",
              "    <div class=\"colab-df-container\">\n",
              "      <div>\n",
              "<style scoped>\n",
              "    .dataframe tbody tr th:only-of-type {\n",
              "        vertical-align: middle;\n",
              "    }\n",
              "\n",
              "    .dataframe tbody tr th {\n",
              "        vertical-align: top;\n",
              "    }\n",
              "\n",
              "    .dataframe thead th {\n",
              "        text-align: right;\n",
              "    }\n",
              "</style>\n",
              "<table border=\"1\" class=\"dataframe\">\n",
              "  <thead>\n",
              "    <tr style=\"text-align: right;\">\n",
              "      <th></th>\n",
              "      <th>x</th>\n",
              "      <th>y</th>\n",
              "      <th>z</th>\n",
              "      <th>Det-1</th>\n",
              "      <th>Det-2</th>\n",
              "      <th>Det-3</th>\n",
              "      <th>Det-4</th>\n",
              "    </tr>\n",
              "  </thead>\n",
              "  <tbody>\n",
              "    <tr>\n",
              "      <th>0</th>\n",
              "      <td>0.000000</td>\n",
              "      <td>0.107288</td>\n",
              "      <td>0.100000</td>\n",
              "      <td>99892.0</td>\n",
              "      <td>67.0</td>\n",
              "      <td>62.0</td>\n",
              "      <td>0.0</td>\n",
              "    </tr>\n",
              "    <tr>\n",
              "      <th>1</th>\n",
              "      <td>0.005025</td>\n",
              "      <td>0.107287</td>\n",
              "      <td>0.100519</td>\n",
              "      <td>62935.0</td>\n",
              "      <td>71.0</td>\n",
              "      <td>47.0</td>\n",
              "      <td>1.0</td>\n",
              "    </tr>\n",
              "    <tr>\n",
              "      <th>2</th>\n",
              "      <td>0.010050</td>\n",
              "      <td>0.107284</td>\n",
              "      <td>0.101038</td>\n",
              "      <td>76964.0</td>\n",
              "      <td>66.0</td>\n",
              "      <td>62.0</td>\n",
              "      <td>1.0</td>\n",
              "    </tr>\n",
              "    <tr>\n",
              "      <th>3</th>\n",
              "      <td>0.015075</td>\n",
              "      <td>0.107279</td>\n",
              "      <td>0.101556</td>\n",
              "      <td>53398.0</td>\n",
              "      <td>82.0</td>\n",
              "      <td>49.0</td>\n",
              "      <td>1.0</td>\n",
              "    </tr>\n",
              "    <tr>\n",
              "      <th>4</th>\n",
              "      <td>0.020101</td>\n",
              "      <td>0.107273</td>\n",
              "      <td>0.102074</td>\n",
              "      <td>60564.0</td>\n",
              "      <td>68.0</td>\n",
              "      <td>59.0</td>\n",
              "      <td>1.0</td>\n",
              "    </tr>\n",
              "    <tr>\n",
              "      <th>...</th>\n",
              "      <td>...</td>\n",
              "      <td>...</td>\n",
              "      <td>...</td>\n",
              "      <td>...</td>\n",
              "      <td>...</td>\n",
              "      <td>...</td>\n",
              "      <td>...</td>\n",
              "    </tr>\n",
              "    <tr>\n",
              "      <th>10995</th>\n",
              "      <td>0.234773</td>\n",
              "      <td>0.152628</td>\n",
              "      <td>0.061698</td>\n",
              "      <td>289.0</td>\n",
              "      <td>225.0</td>\n",
              "      <td>689.0</td>\n",
              "      <td>1.0</td>\n",
              "    </tr>\n",
              "    <tr>\n",
              "      <th>10996</th>\n",
              "      <td>0.504409</td>\n",
              "      <td>0.083876</td>\n",
              "      <td>0.035433</td>\n",
              "      <td>8.0</td>\n",
              "      <td>669.0</td>\n",
              "      <td>8197.0</td>\n",
              "      <td>7.0</td>\n",
              "    </tr>\n",
              "    <tr>\n",
              "      <th>10997</th>\n",
              "      <td>0.733244</td>\n",
              "      <td>0.060354</td>\n",
              "      <td>0.038693</td>\n",
              "      <td>1.0</td>\n",
              "      <td>235.0</td>\n",
              "      <td>1266.0</td>\n",
              "      <td>166.0</td>\n",
              "    </tr>\n",
              "    <tr>\n",
              "      <th>10998</th>\n",
              "      <td>0.871950</td>\n",
              "      <td>0.121176</td>\n",
              "      <td>0.182642</td>\n",
              "      <td>1.0</td>\n",
              "      <td>733.0</td>\n",
              "      <td>76.0</td>\n",
              "      <td>1368.0</td>\n",
              "    </tr>\n",
              "    <tr>\n",
              "      <th>10999</th>\n",
              "      <td>0.201311</td>\n",
              "      <td>0.122852</td>\n",
              "      <td>0.030850</td>\n",
              "      <td>437.0</td>\n",
              "      <td>134.0</td>\n",
              "      <td>892.0</td>\n",
              "      <td>2.0</td>\n",
              "    </tr>\n",
              "  </tbody>\n",
              "</table>\n",
              "<p>11000 rows × 7 columns</p>\n",
              "</div>\n",
              "      <button class=\"colab-df-convert\" onclick=\"convertToInteractive('df-798e6804-c869-4e81-8fe9-d05b8eaec81f')\"\n",
              "              title=\"Convert this dataframe to an interactive table.\"\n",
              "              style=\"display:none;\">\n",
              "        \n",
              "  <svg xmlns=\"http://www.w3.org/2000/svg\" height=\"24px\"viewBox=\"0 0 24 24\"\n",
              "       width=\"24px\">\n",
              "    <path d=\"M0 0h24v24H0V0z\" fill=\"none\"/>\n",
              "    <path d=\"M18.56 5.44l.94 2.06.94-2.06 2.06-.94-2.06-.94-.94-2.06-.94 2.06-2.06.94zm-11 1L8.5 8.5l.94-2.06 2.06-.94-2.06-.94L8.5 2.5l-.94 2.06-2.06.94zm10 10l.94 2.06.94-2.06 2.06-.94-2.06-.94-.94-2.06-.94 2.06-2.06.94z\"/><path d=\"M17.41 7.96l-1.37-1.37c-.4-.4-.92-.59-1.43-.59-.52 0-1.04.2-1.43.59L10.3 9.45l-7.72 7.72c-.78.78-.78 2.05 0 2.83L4 21.41c.39.39.9.59 1.41.59.51 0 1.02-.2 1.41-.59l7.78-7.78 2.81-2.81c.8-.78.8-2.07 0-2.86zM5.41 20L4 18.59l7.72-7.72 1.47 1.35L5.41 20z\"/>\n",
              "  </svg>\n",
              "      </button>\n",
              "      \n",
              "  <style>\n",
              "    .colab-df-container {\n",
              "      display:flex;\n",
              "      flex-wrap:wrap;\n",
              "      gap: 12px;\n",
              "    }\n",
              "\n",
              "    .colab-df-convert {\n",
              "      background-color: #E8F0FE;\n",
              "      border: none;\n",
              "      border-radius: 50%;\n",
              "      cursor: pointer;\n",
              "      display: none;\n",
              "      fill: #1967D2;\n",
              "      height: 32px;\n",
              "      padding: 0 0 0 0;\n",
              "      width: 32px;\n",
              "    }\n",
              "\n",
              "    .colab-df-convert:hover {\n",
              "      background-color: #E2EBFA;\n",
              "      box-shadow: 0px 1px 2px rgba(60, 64, 67, 0.3), 0px 1px 3px 1px rgba(60, 64, 67, 0.15);\n",
              "      fill: #174EA6;\n",
              "    }\n",
              "\n",
              "    [theme=dark] .colab-df-convert {\n",
              "      background-color: #3B4455;\n",
              "      fill: #D2E3FC;\n",
              "    }\n",
              "\n",
              "    [theme=dark] .colab-df-convert:hover {\n",
              "      background-color: #434B5C;\n",
              "      box-shadow: 0px 1px 3px 1px rgba(0, 0, 0, 0.15);\n",
              "      filter: drop-shadow(0px 1px 2px rgba(0, 0, 0, 0.3));\n",
              "      fill: #FFFFFF;\n",
              "    }\n",
              "  </style>\n",
              "\n",
              "      <script>\n",
              "        const buttonEl =\n",
              "          document.querySelector('#df-798e6804-c869-4e81-8fe9-d05b8eaec81f button.colab-df-convert');\n",
              "        buttonEl.style.display =\n",
              "          google.colab.kernel.accessAllowed ? 'block' : 'none';\n",
              "\n",
              "        async function convertToInteractive(key) {\n",
              "          const element = document.querySelector('#df-798e6804-c869-4e81-8fe9-d05b8eaec81f');\n",
              "          const dataTable =\n",
              "            await google.colab.kernel.invokeFunction('convertToInteractive',\n",
              "                                                     [key], {});\n",
              "          if (!dataTable) return;\n",
              "\n",
              "          const docLinkHtml = 'Like what you see? Visit the ' +\n",
              "            '<a target=\"_blank\" href=https://colab.research.google.com/notebooks/data_table.ipynb>data table notebook</a>'\n",
              "            + ' to learn more about interactive tables.';\n",
              "          element.innerHTML = '';\n",
              "          dataTable['output_type'] = 'display_data';\n",
              "          await google.colab.output.renderOutput(dataTable, element);\n",
              "          const docLink = document.createElement('div');\n",
              "          docLink.innerHTML = docLinkHtml;\n",
              "          element.appendChild(docLink);\n",
              "        }\n",
              "      </script>\n",
              "    </div>\n",
              "  </div>\n",
              "  "
            ]
          },
          "metadata": {},
          "execution_count": 4
        }
      ]
    },
    {
      "cell_type": "markdown",
      "source": [
        "Normalize data"
      ],
      "metadata": {
        "id": "wnpzrRSvGI8C"
      }
    },
    {
      "cell_type": "code",
      "source": [
        "from sklearn.preprocessing import MinMaxScaler"
      ],
      "metadata": {
        "id": "MDwSO_cTGKew"
      },
      "execution_count": 5,
      "outputs": []
    },
    {
      "cell_type": "code",
      "source": [
        "scaler =  MinMaxScaler()"
      ],
      "metadata": {
        "id": "jiIdeweGGO21"
      },
      "execution_count": 6,
      "outputs": []
    },
    {
      "cell_type": "code",
      "source": [
        "array_total.iloc[:,3:] = scaler.fit_transform(array_total.iloc[:,3:])"
      ],
      "metadata": {
        "id": "5CpAtV-RGSpP"
      },
      "execution_count": 7,
      "outputs": []
    },
    {
      "cell_type": "code",
      "source": [
        "array_total"
      ],
      "metadata": {
        "colab": {
          "base_uri": "https://localhost:8080/",
          "height": 424
        },
        "id": "sY_lEjHWGZxU",
        "outputId": "9dfdd58d-7490-492f-ac90-1438c7974b02"
      },
      "execution_count": 8,
      "outputs": [
        {
          "output_type": "execute_result",
          "data": {
            "text/plain": [
              "              x         y         z     Det-1     Det-2     Det-3     Det-4\n",
              "0      0.000000  0.107288  0.100000  0.995505  0.000106  0.003807  0.000000\n",
              "1      0.005025  0.107287  0.100519  0.627199  0.000116  0.002871  0.000010\n",
              "2      0.010050  0.107284  0.101038  0.767009  0.000104  0.003807  0.000010\n",
              "3      0.015075  0.107279  0.101556  0.532155  0.000142  0.002996  0.000010\n",
              "4      0.020101  0.107273  0.102074  0.603570  0.000109  0.003620  0.000010\n",
              "...         ...       ...       ...       ...       ...       ...       ...\n",
              "10995  0.234773  0.152628  0.061698  0.002880  0.000479  0.042936  0.000010\n",
              "10996  0.504409  0.083876  0.035433  0.000080  0.001527  0.511483  0.000070\n",
              "10997  0.733244  0.060354  0.038693  0.000010  0.000503  0.078944  0.001671\n",
              "10998  0.871950  0.121176  0.182642  0.000010  0.001678  0.004680  0.013770\n",
              "10999  0.201311  0.122852  0.030850  0.004355  0.000264  0.055604  0.000020\n",
              "\n",
              "[11000 rows x 7 columns]"
            ],
            "text/html": [
              "\n",
              "  <div id=\"df-17fbe6da-dc31-4608-a6b7-d5401fcf2417\">\n",
              "    <div class=\"colab-df-container\">\n",
              "      <div>\n",
              "<style scoped>\n",
              "    .dataframe tbody tr th:only-of-type {\n",
              "        vertical-align: middle;\n",
              "    }\n",
              "\n",
              "    .dataframe tbody tr th {\n",
              "        vertical-align: top;\n",
              "    }\n",
              "\n",
              "    .dataframe thead th {\n",
              "        text-align: right;\n",
              "    }\n",
              "</style>\n",
              "<table border=\"1\" class=\"dataframe\">\n",
              "  <thead>\n",
              "    <tr style=\"text-align: right;\">\n",
              "      <th></th>\n",
              "      <th>x</th>\n",
              "      <th>y</th>\n",
              "      <th>z</th>\n",
              "      <th>Det-1</th>\n",
              "      <th>Det-2</th>\n",
              "      <th>Det-3</th>\n",
              "      <th>Det-4</th>\n",
              "    </tr>\n",
              "  </thead>\n",
              "  <tbody>\n",
              "    <tr>\n",
              "      <th>0</th>\n",
              "      <td>0.000000</td>\n",
              "      <td>0.107288</td>\n",
              "      <td>0.100000</td>\n",
              "      <td>0.995505</td>\n",
              "      <td>0.000106</td>\n",
              "      <td>0.003807</td>\n",
              "      <td>0.000000</td>\n",
              "    </tr>\n",
              "    <tr>\n",
              "      <th>1</th>\n",
              "      <td>0.005025</td>\n",
              "      <td>0.107287</td>\n",
              "      <td>0.100519</td>\n",
              "      <td>0.627199</td>\n",
              "      <td>0.000116</td>\n",
              "      <td>0.002871</td>\n",
              "      <td>0.000010</td>\n",
              "    </tr>\n",
              "    <tr>\n",
              "      <th>2</th>\n",
              "      <td>0.010050</td>\n",
              "      <td>0.107284</td>\n",
              "      <td>0.101038</td>\n",
              "      <td>0.767009</td>\n",
              "      <td>0.000104</td>\n",
              "      <td>0.003807</td>\n",
              "      <td>0.000010</td>\n",
              "    </tr>\n",
              "    <tr>\n",
              "      <th>3</th>\n",
              "      <td>0.015075</td>\n",
              "      <td>0.107279</td>\n",
              "      <td>0.101556</td>\n",
              "      <td>0.532155</td>\n",
              "      <td>0.000142</td>\n",
              "      <td>0.002996</td>\n",
              "      <td>0.000010</td>\n",
              "    </tr>\n",
              "    <tr>\n",
              "      <th>4</th>\n",
              "      <td>0.020101</td>\n",
              "      <td>0.107273</td>\n",
              "      <td>0.102074</td>\n",
              "      <td>0.603570</td>\n",
              "      <td>0.000109</td>\n",
              "      <td>0.003620</td>\n",
              "      <td>0.000010</td>\n",
              "    </tr>\n",
              "    <tr>\n",
              "      <th>...</th>\n",
              "      <td>...</td>\n",
              "      <td>...</td>\n",
              "      <td>...</td>\n",
              "      <td>...</td>\n",
              "      <td>...</td>\n",
              "      <td>...</td>\n",
              "      <td>...</td>\n",
              "    </tr>\n",
              "    <tr>\n",
              "      <th>10995</th>\n",
              "      <td>0.234773</td>\n",
              "      <td>0.152628</td>\n",
              "      <td>0.061698</td>\n",
              "      <td>0.002880</td>\n",
              "      <td>0.000479</td>\n",
              "      <td>0.042936</td>\n",
              "      <td>0.000010</td>\n",
              "    </tr>\n",
              "    <tr>\n",
              "      <th>10996</th>\n",
              "      <td>0.504409</td>\n",
              "      <td>0.083876</td>\n",
              "      <td>0.035433</td>\n",
              "      <td>0.000080</td>\n",
              "      <td>0.001527</td>\n",
              "      <td>0.511483</td>\n",
              "      <td>0.000070</td>\n",
              "    </tr>\n",
              "    <tr>\n",
              "      <th>10997</th>\n",
              "      <td>0.733244</td>\n",
              "      <td>0.060354</td>\n",
              "      <td>0.038693</td>\n",
              "      <td>0.000010</td>\n",
              "      <td>0.000503</td>\n",
              "      <td>0.078944</td>\n",
              "      <td>0.001671</td>\n",
              "    </tr>\n",
              "    <tr>\n",
              "      <th>10998</th>\n",
              "      <td>0.871950</td>\n",
              "      <td>0.121176</td>\n",
              "      <td>0.182642</td>\n",
              "      <td>0.000010</td>\n",
              "      <td>0.001678</td>\n",
              "      <td>0.004680</td>\n",
              "      <td>0.013770</td>\n",
              "    </tr>\n",
              "    <tr>\n",
              "      <th>10999</th>\n",
              "      <td>0.201311</td>\n",
              "      <td>0.122852</td>\n",
              "      <td>0.030850</td>\n",
              "      <td>0.004355</td>\n",
              "      <td>0.000264</td>\n",
              "      <td>0.055604</td>\n",
              "      <td>0.000020</td>\n",
              "    </tr>\n",
              "  </tbody>\n",
              "</table>\n",
              "<p>11000 rows × 7 columns</p>\n",
              "</div>\n",
              "      <button class=\"colab-df-convert\" onclick=\"convertToInteractive('df-17fbe6da-dc31-4608-a6b7-d5401fcf2417')\"\n",
              "              title=\"Convert this dataframe to an interactive table.\"\n",
              "              style=\"display:none;\">\n",
              "        \n",
              "  <svg xmlns=\"http://www.w3.org/2000/svg\" height=\"24px\"viewBox=\"0 0 24 24\"\n",
              "       width=\"24px\">\n",
              "    <path d=\"M0 0h24v24H0V0z\" fill=\"none\"/>\n",
              "    <path d=\"M18.56 5.44l.94 2.06.94-2.06 2.06-.94-2.06-.94-.94-2.06-.94 2.06-2.06.94zm-11 1L8.5 8.5l.94-2.06 2.06-.94-2.06-.94L8.5 2.5l-.94 2.06-2.06.94zm10 10l.94 2.06.94-2.06 2.06-.94-2.06-.94-.94-2.06-.94 2.06-2.06.94z\"/><path d=\"M17.41 7.96l-1.37-1.37c-.4-.4-.92-.59-1.43-.59-.52 0-1.04.2-1.43.59L10.3 9.45l-7.72 7.72c-.78.78-.78 2.05 0 2.83L4 21.41c.39.39.9.59 1.41.59.51 0 1.02-.2 1.41-.59l7.78-7.78 2.81-2.81c.8-.78.8-2.07 0-2.86zM5.41 20L4 18.59l7.72-7.72 1.47 1.35L5.41 20z\"/>\n",
              "  </svg>\n",
              "      </button>\n",
              "      \n",
              "  <style>\n",
              "    .colab-df-container {\n",
              "      display:flex;\n",
              "      flex-wrap:wrap;\n",
              "      gap: 12px;\n",
              "    }\n",
              "\n",
              "    .colab-df-convert {\n",
              "      background-color: #E8F0FE;\n",
              "      border: none;\n",
              "      border-radius: 50%;\n",
              "      cursor: pointer;\n",
              "      display: none;\n",
              "      fill: #1967D2;\n",
              "      height: 32px;\n",
              "      padding: 0 0 0 0;\n",
              "      width: 32px;\n",
              "    }\n",
              "\n",
              "    .colab-df-convert:hover {\n",
              "      background-color: #E2EBFA;\n",
              "      box-shadow: 0px 1px 2px rgba(60, 64, 67, 0.3), 0px 1px 3px 1px rgba(60, 64, 67, 0.15);\n",
              "      fill: #174EA6;\n",
              "    }\n",
              "\n",
              "    [theme=dark] .colab-df-convert {\n",
              "      background-color: #3B4455;\n",
              "      fill: #D2E3FC;\n",
              "    }\n",
              "\n",
              "    [theme=dark] .colab-df-convert:hover {\n",
              "      background-color: #434B5C;\n",
              "      box-shadow: 0px 1px 3px 1px rgba(0, 0, 0, 0.15);\n",
              "      filter: drop-shadow(0px 1px 2px rgba(0, 0, 0, 0.3));\n",
              "      fill: #FFFFFF;\n",
              "    }\n",
              "  </style>\n",
              "\n",
              "      <script>\n",
              "        const buttonEl =\n",
              "          document.querySelector('#df-17fbe6da-dc31-4608-a6b7-d5401fcf2417 button.colab-df-convert');\n",
              "        buttonEl.style.display =\n",
              "          google.colab.kernel.accessAllowed ? 'block' : 'none';\n",
              "\n",
              "        async function convertToInteractive(key) {\n",
              "          const element = document.querySelector('#df-17fbe6da-dc31-4608-a6b7-d5401fcf2417');\n",
              "          const dataTable =\n",
              "            await google.colab.kernel.invokeFunction('convertToInteractive',\n",
              "                                                     [key], {});\n",
              "          if (!dataTable) return;\n",
              "\n",
              "          const docLinkHtml = 'Like what you see? Visit the ' +\n",
              "            '<a target=\"_blank\" href=https://colab.research.google.com/notebooks/data_table.ipynb>data table notebook</a>'\n",
              "            + ' to learn more about interactive tables.';\n",
              "          element.innerHTML = '';\n",
              "          dataTable['output_type'] = 'display_data';\n",
              "          await google.colab.output.renderOutput(dataTable, element);\n",
              "          const docLink = document.createElement('div');\n",
              "          docLink.innerHTML = docLinkHtml;\n",
              "          element.appendChild(docLink);\n",
              "        }\n",
              "      </script>\n",
              "    </div>\n",
              "  </div>\n",
              "  "
            ]
          },
          "metadata": {},
          "execution_count": 8
        }
      ]
    },
    {
      "cell_type": "markdown",
      "source": [
        "Split data for training and test"
      ],
      "metadata": {
        "id": "mOIU-P7cGgeP"
      }
    },
    {
      "cell_type": "code",
      "source": [
        "from copy import deepcopy"
      ],
      "metadata": {
        "id": "THWEqX0cGctQ"
      },
      "execution_count": 9,
      "outputs": []
    },
    {
      "cell_type": "code",
      "source": [
        "training = deepcopy(array_total[:10000])\n",
        "test = deepcopy(array_total[10000:])"
      ],
      "metadata": {
        "id": "Xh75OkzIGjjq"
      },
      "execution_count": 10,
      "outputs": []
    },
    {
      "cell_type": "code",
      "source": [
        "!pip install scikit-optimize"
      ],
      "metadata": {
        "colab": {
          "base_uri": "https://localhost:8080/"
        },
        "id": "_fH5YO_vEHSq",
        "outputId": "8bb8ae34-f3b1-4b09-c30f-9ff1000ff2f1"
      },
      "execution_count": 11,
      "outputs": [
        {
          "output_type": "stream",
          "name": "stdout",
          "text": [
            "Looking in indexes: https://pypi.org/simple, https://us-python.pkg.dev/colab-wheels/public/simple/\n",
            "Collecting scikit-optimize\n",
            "  Downloading scikit_optimize-0.9.0-py2.py3-none-any.whl (100 kB)\n",
            "\u001b[K     |████████████████████████████████| 100 kB 6.1 MB/s \n",
            "\u001b[?25hRequirement already satisfied: joblib>=0.11 in /usr/local/lib/python3.7/dist-packages (from scikit-optimize) (1.2.0)\n",
            "Requirement already satisfied: numpy>=1.13.3 in /usr/local/lib/python3.7/dist-packages (from scikit-optimize) (1.21.6)\n",
            "Requirement already satisfied: scikit-learn>=0.20.0 in /usr/local/lib/python3.7/dist-packages (from scikit-optimize) (1.0.2)\n",
            "Collecting pyaml>=16.9\n",
            "  Downloading pyaml-21.10.1-py2.py3-none-any.whl (24 kB)\n",
            "Requirement already satisfied: scipy>=0.19.1 in /usr/local/lib/python3.7/dist-packages (from scikit-optimize) (1.7.3)\n",
            "Requirement already satisfied: PyYAML in /usr/local/lib/python3.7/dist-packages (from pyaml>=16.9->scikit-optimize) (6.0)\n",
            "Requirement already satisfied: threadpoolctl>=2.0.0 in /usr/local/lib/python3.7/dist-packages (from scikit-learn>=0.20.0->scikit-optimize) (3.1.0)\n",
            "Installing collected packages: pyaml, scikit-optimize\n",
            "Successfully installed pyaml-21.10.1 scikit-optimize-0.9.0\n"
          ]
        }
      ]
    },
    {
      "cell_type": "code",
      "source": [
        "import skopt\n",
        "from sklearn.neighbors import KNeighborsRegressor\n",
        "from skopt import BayesSearchCV"
      ],
      "metadata": {
        "id": "YuOpHWEsEQdI"
      },
      "execution_count": 12,
      "outputs": []
    },
    {
      "cell_type": "code",
      "source": [
        "model_knn = KNeighborsRegressor()"
      ],
      "metadata": {
        "id": "IAjs_NKEEkGK"
      },
      "execution_count": 13,
      "outputs": []
    },
    {
      "cell_type": "code",
      "source": [
        "parameters = {'n_neighbors': list(range(5,100,5)),\n",
        "              'weights':['uniform', 'distance'],\n",
        "              'p':[1,2],\n",
        "              'leaf_size':list(range(10,100,10))}"
      ],
      "metadata": {
        "id": "bWz1Vq1lEt-L"
      },
      "execution_count": 14,
      "outputs": []
    },
    {
      "cell_type": "code",
      "source": [
        "search = BayesSearchCV(estimator = model_knn, search_spaces=parameters, n_jobs=-1, cv=5)"
      ],
      "metadata": {
        "id": "VCEsibANF2nu"
      },
      "execution_count": 15,
      "outputs": []
    },
    {
      "cell_type": "code",
      "source": [
        "search.fit(training.iloc[:,3:], training.iloc[:,:3])"
      ],
      "metadata": {
        "colab": {
          "base_uri": "https://localhost:8080/"
        },
        "id": "_y3OrcOZGt8m",
        "outputId": "9b86b342-f4c8-4971-975b-a52b53c0abc3"
      },
      "execution_count": 16,
      "outputs": [
        {
          "output_type": "stream",
          "name": "stderr",
          "text": [
            "/usr/local/lib/python3.7/dist-packages/skopt/optimizer/optimizer.py:449: UserWarning: The objective has been evaluated at this point before.\n",
            "  warnings.warn(\"The objective has been evaluated \"\n",
            "/usr/local/lib/python3.7/dist-packages/skopt/optimizer/optimizer.py:449: UserWarning: The objective has been evaluated at this point before.\n",
            "  warnings.warn(\"The objective has been evaluated \"\n",
            "/usr/local/lib/python3.7/dist-packages/skopt/optimizer/optimizer.py:449: UserWarning: The objective has been evaluated at this point before.\n",
            "  warnings.warn(\"The objective has been evaluated \"\n",
            "/usr/local/lib/python3.7/dist-packages/skopt/optimizer/optimizer.py:449: UserWarning: The objective has been evaluated at this point before.\n",
            "  warnings.warn(\"The objective has been evaluated \"\n",
            "/usr/local/lib/python3.7/dist-packages/skopt/optimizer/optimizer.py:449: UserWarning: The objective has been evaluated at this point before.\n",
            "  warnings.warn(\"The objective has been evaluated \"\n",
            "/usr/local/lib/python3.7/dist-packages/skopt/optimizer/optimizer.py:449: UserWarning: The objective has been evaluated at this point before.\n",
            "  warnings.warn(\"The objective has been evaluated \"\n",
            "/usr/local/lib/python3.7/dist-packages/skopt/optimizer/optimizer.py:449: UserWarning: The objective has been evaluated at this point before.\n",
            "  warnings.warn(\"The objective has been evaluated \"\n",
            "/usr/local/lib/python3.7/dist-packages/skopt/optimizer/optimizer.py:449: UserWarning: The objective has been evaluated at this point before.\n",
            "  warnings.warn(\"The objective has been evaluated \"\n",
            "/usr/local/lib/python3.7/dist-packages/skopt/optimizer/optimizer.py:449: UserWarning: The objective has been evaluated at this point before.\n",
            "  warnings.warn(\"The objective has been evaluated \"\n",
            "/usr/local/lib/python3.7/dist-packages/skopt/optimizer/optimizer.py:449: UserWarning: The objective has been evaluated at this point before.\n",
            "  warnings.warn(\"The objective has been evaluated \"\n",
            "/usr/local/lib/python3.7/dist-packages/skopt/optimizer/optimizer.py:449: UserWarning: The objective has been evaluated at this point before.\n",
            "  warnings.warn(\"The objective has been evaluated \"\n",
            "/usr/local/lib/python3.7/dist-packages/skopt/optimizer/optimizer.py:449: UserWarning: The objective has been evaluated at this point before.\n",
            "  warnings.warn(\"The objective has been evaluated \"\n"
          ]
        },
        {
          "output_type": "execute_result",
          "data": {
            "text/plain": [
              "BayesSearchCV(cv=5, estimator=KNeighborsRegressor(), n_jobs=-1,\n",
              "              search_spaces={'leaf_size': [10, 20, 30, 40, 50, 60, 70, 80, 90],\n",
              "                             'n_neighbors': [5, 10, 15, 20, 25, 30, 35, 40, 45,\n",
              "                                             50, 55, 60, 65, 70, 75, 80, 85, 90,\n",
              "                                             95],\n",
              "                             'p': [1, 2], 'weights': ['uniform', 'distance']})"
            ]
          },
          "metadata": {},
          "execution_count": 16
        }
      ]
    },
    {
      "cell_type": "code",
      "source": [
        "print(search.best_score_)\n",
        "print(search.best_params_)"
      ],
      "metadata": {
        "colab": {
          "base_uri": "https://localhost:8080/"
        },
        "id": "PnfNZlxGINeD",
        "outputId": "242a7c11-1bea-419d-aae1-85a56bb7e9f9"
      },
      "execution_count": 17,
      "outputs": [
        {
          "output_type": "stream",
          "name": "stdout",
          "text": [
            "-0.060017364980383035\n",
            "OrderedDict([('leaf_size', 90), ('n_neighbors', 85), ('p', 2), ('weights', 'uniform')])\n"
          ]
        }
      ]
    },
    {
      "cell_type": "code",
      "source": [
        "best_model = search.best_estimator_"
      ],
      "metadata": {
        "id": "CGabl_QbIgq9"
      },
      "execution_count": 18,
      "outputs": []
    },
    {
      "cell_type": "code",
      "source": [
        "preditions = best_model.predict(test.iloc[:,3:])"
      ],
      "metadata": {
        "id": "APpPouXBKWKY"
      },
      "execution_count": 19,
      "outputs": []
    },
    {
      "cell_type": "code",
      "source": [
        "# define a function to calculate the MEDE averaged\n",
        "def mede_cal_score(y_test,y_pred):\n",
        "  med=[]\n",
        "  for i in range(len(y_pred)):\n",
        "    med.append(((y_test[i,0]-y_pred[i,0])**2+(y_test[i,1]-y_pred[i,1])**2+(y_test[i,2]-y_pred[i,2])**2)**0.5)\n",
        "  return sum(med)/len(med)\n",
        "# function to calculate the MEDE array\n",
        "def mede_cal_vector(y_test,y_pred):\n",
        "  med=[]\n",
        "  for i in range(len(y_pred)):\n",
        "    med.append(((y_test[i,0]-y_pred[i,0])**2+(y_test[i,1]-y_pred[i,1])**2+(y_test[i,2]-y_pred[i,2])**2)**0.5)\n",
        "  return med"
      ],
      "metadata": {
        "id": "_gin8s0NK1VZ"
      },
      "execution_count": 20,
      "outputs": []
    },
    {
      "cell_type": "code",
      "source": [
        "mede_knn = mede_cal_score(test.iloc[:,:3].to_numpy(), preditions)"
      ],
      "metadata": {
        "id": "7U7zeggbLAno"
      },
      "execution_count": 21,
      "outputs": []
    },
    {
      "cell_type": "code",
      "source": [
        "mede_knn"
      ],
      "metadata": {
        "colab": {
          "base_uri": "https://localhost:8080/"
        },
        "id": "qxI5NPilLV8e",
        "outputId": "754f37a5-c133-4782-a72b-3534827bf1a1"
      },
      "execution_count": 22,
      "outputs": [
        {
          "output_type": "execute_result",
          "data": {
            "text/plain": [
              "0.22612725946167"
            ]
          },
          "metadata": {},
          "execution_count": 22
        }
      ]
    },
    {
      "cell_type": "code",
      "source": [
        "mede_knn_val = mede_cal_vector(test.iloc[:,:3].to_numpy(), preditions)"
      ],
      "metadata": {
        "id": "1F8eVARqMXaO"
      },
      "execution_count": 23,
      "outputs": []
    },
    {
      "cell_type": "code",
      "source": [
        "def plot_box_3d(x_l, y_l, z_l, axis_p, alpha_val=0.3):\n",
        "    # face 1\n",
        "    xl1 = np.linspace(0, x_l, 100, endpoint=True)\n",
        "    yl1 = np.linspace(0, y_l, 100, endpoint=True)\n",
        "    Xl1, Yl1 = np.meshgrid(xl1, yl1)\n",
        "    zl1 = np.full(len(np.ravel(Xl1)), 0)\n",
        "    Zl1 = zl1.reshape(Xl1.shape)\n",
        "    # face 2\n",
        "    xl2 = np.linspace(0, x_l, 100, endpoint=True)\n",
        "    yl2 = np.linspace(0, y_l, 100, endpoint=True)\n",
        "    Xl2, Yl2 = np.meshgrid(xl2, yl2)\n",
        "    zl2 = np.full(len(np.ravel(Xl2)), z_l)\n",
        "    Zl2 = zl2.reshape(Xl2.shape)\n",
        "    # face 3\n",
        "    xl3 = np.linspace(0, x_l, 100, endpoint=True)\n",
        "    zl3 = np.linspace(0, z_l, 100, endpoint=True)\n",
        "    Xl3, Zl3 = np.meshgrid(xl3, zl3)\n",
        "    yl3 = np.full(len(np.ravel(Xl3)), 0)\n",
        "    Yl3 = yl3.reshape(Xl3.shape)\n",
        "    # face 4\n",
        "    xl4 = np.linspace(0, x_l, 100, endpoint=True)\n",
        "    zl4 = np.linspace(0, z_l, 100, endpoint=True)\n",
        "    Xl4, Zl4 = np.meshgrid(xl4, zl4)\n",
        "    yl4 = np.full(len(np.ravel(Xl4)), y_l)\n",
        "    Yl4 = yl4.reshape(Xl4.shape)\n",
        "    axis_p.plot_surface(Xl1, Yl1, Zl1, alpha=alpha_val, color='green')\n",
        "    axis_p.plot_surface(Xl2, Yl2, Zl2, alpha=alpha_val, color='green')\n",
        "    axis_p.plot_surface(Xl3, Yl3, Zl3, alpha=alpha_val, color='green')\n",
        "    axis_p.plot_surface(Xl4, Yl4, Zl4, alpha=alpha_val, color='green')"
      ],
      "metadata": {
        "id": "zSHTPDMfMPyB"
      },
      "execution_count": 24,
      "outputs": []
    },
    {
      "cell_type": "code",
      "source": [
        "from mpl_toolkits.mplot3d import Axes3D"
      ],
      "metadata": {
        "id": "CnVTjPtnMylb"
      },
      "execution_count": 25,
      "outputs": []
    },
    {
      "cell_type": "code",
      "source": [
        "fig = plt.figure()\n",
        "ax = fig.add_subplot(111, projection='3d')\n",
        "plot_box_3d(1,0.2,0.2,axis_p=ax, alpha_val=0.2)\n",
        "for i in range(1000):\n",
        "  p=ax.scatter(test.iloc[i,0], test.iloc[i,1], test.iloc[i,2], c=mede_knn_val[i], cmap = 'bwr',vmin=0, vmax=0.5)\n",
        "cbar=fig.colorbar(p,ax=ax) \n",
        "ax.set_ylim(0,0.2)\n",
        "ax.set_zlim(0,0.2)\n",
        "ax.set_xlabel('x-axis')\n",
        "ax.set_ylabel('y-axis')\n",
        "ax.set_zlabel('z-axis')"
      ],
      "metadata": {
        "colab": {
          "base_uri": "https://localhost:8080/",
          "height": 275
        },
        "id": "NDQZDR5ZMWLN",
        "outputId": "5647f80f-8043-4a9b-d003-fb8e97630220"
      },
      "execution_count": 26,
      "outputs": [
        {
          "output_type": "execute_result",
          "data": {
            "text/plain": [
              "Text(0.5, 0, 'z-axis')"
            ]
          },
          "metadata": {},
          "execution_count": 26
        },
        {
          "output_type": "display_data",
          "data": {
            "text/plain": [
              "<Figure size 432x288 with 2 Axes>"
            ],
            "image/png": "[encoded data removed]"
          },
          "metadata": {
            "needs_background": "light"
          }
        }
      ]
    },
    {
      "cell_type": "markdown",
      "source": [
        "Tunning the ANN"
      ],
      "metadata": {
        "id": "ITBiSxFlP1yt"
      }
    },
    {
      "cell_type": "code",
      "source": [
        "!pip install -q -U keras-tuner\n",
        "import kerastuner as kt\n",
        "from tensorflow import keras"
      ],
      "metadata": {
        "colab": {
          "base_uri": "https://localhost:8080/"
        },
        "id": "VEYYgmugQSa4",
        "outputId": "9dfa6913-b11f-45c0-8aac-cf906adb6d90"
      },
      "execution_count": 27,
      "outputs": [
        {
          "output_type": "stream",
          "name": "stdout",
          "text": [
            "\u001b[K     |████████████████████████████████| 135 kB 12.7 MB/s \n",
            "\u001b[K     |████████████████████████████████| 1.6 MB 31.9 MB/s \n",
            "\u001b[?25h"
          ]
        },
        {
          "output_type": "stream",
          "name": "stderr",
          "text": [
            "/usr/local/lib/python3.7/dist-packages/ipykernel_launcher.py:2: DeprecationWarning: `import kerastuner` is deprecated, please use `import keras_tuner`.\n",
            "  \n"
          ]
        }
      ]
    },
    {
      "cell_type": "code",
      "source": [
        "from tensorflow.keras.models import Sequential\n",
        "from tensorflow.keras.layers import Dense, Dropout"
      ],
      "metadata": {
        "id": "yUE_Ow6iQ8sd"
      },
      "execution_count": 28,
      "outputs": []
    },
    {
      "cell_type": "code",
      "source": [
        "def model_constructor(hp):\n",
        "  model = Sequential()\n",
        "  # layer 1\n",
        "  hp_units1 = hp.Int(\"units1\", min_value = 5, max_value = 50, step = 5)\n",
        "  model.add(Dense(units=hp_units1, input_dim=4,activation='relu'))\n",
        "  model.add(Dropout(0.2))\n",
        "  # layer 2\n",
        "  hp_units2 = hp.Int(\"units2\", min_value = 5, max_value = 30, step = 5)\n",
        "  model.add(Dense(units=hp_units2, activation = 'relu'))\n",
        "  model.add(Dropout(0.2))\n",
        "  # layer 3\n",
        "  hp_units3 = hp.Int(\"units3\", min_value = 5, max_value = 30, step = 5)\n",
        "  model.add(Dense(units=hp_units3, activation = 'relu'))\n",
        "  model.add(Dropout(0.2))\n",
        "  #layer 4\n",
        "  model.add(Dense(units=3, activation = 'linear'))\n",
        "  model.compile(loss='mse', metrics='mae', optimizer='adam')\n",
        "  return model"
      ],
      "metadata": {
        "id": "LEbxEylcQVkg"
      },
      "execution_count": 29,
      "outputs": []
    },
    {
      "cell_type": "markdown",
      "source": [
        "Uncomment the following cells if you want to run the cells"
      ],
      "metadata": {
        "id": "P9gI5b-YrWvV"
      }
    },
    {
      "cell_type": "code",
      "source": [
        "# tuner = kt.Hyperband(\n",
        "#     model_constructor,\n",
        "#     objective = \"val_mae\",\n",
        "#     max_epochs = 50,\n",
        "#     factor = 3,\n",
        "#     directory = \"models/\",\n",
        "#     project_name = \"ANN-RPT-lines\",\n",
        "#     overwrite=True\n",
        "# )"
      ],
      "metadata": {
        "id": "LWM9Hli7Q4p7"
      },
      "execution_count": 30,
      "outputs": []
    },
    {
      "cell_type": "code",
      "source": [
        "# tuner.search(x=training.iloc[:,3:], y= training.iloc[:,:3], epochs = 50, validation_split = 0.3)\n",
        "# best_hps = tuner.get_best_hyperparameters(num_trials =1)[0]"
      ],
      "metadata": {
        "id": "8yIzCq5uRJGm"
      },
      "execution_count": 31,
      "outputs": []
    },
    {
      "cell_type": "code",
      "source": [
        "from tensorflow.keras.callbacks import ModelCheckpoint"
      ],
      "metadata": {
        "id": "IC4-iiGsZbXJ"
      },
      "execution_count": 32,
      "outputs": []
    },
    {
      "cell_type": "code",
      "source": [
        "# check1  = ModelCheckpoint(filepath='array_3_ANN.hdf5', monitor = 'val_loss', save_best_only = True, save_weights_only = False)"
      ],
      "metadata": {
        "id": "N2pqtLN0Zauy"
      },
      "execution_count": 33,
      "outputs": []
    },
    {
      "cell_type": "code",
      "source": [
        "# model_ann = tuner.hypermodel.build(best_hps)"
      ],
      "metadata": {
        "id": "A2O9uWbyP0yM"
      },
      "execution_count": 34,
      "outputs": []
    },
    {
      "cell_type": "code",
      "source": [
        "# model_ann.summary()"
      ],
      "metadata": {
        "id": "Fxk235RFZqQ7"
      },
      "execution_count": 35,
      "outputs": []
    },
    {
      "cell_type": "code",
      "source": [
        "# model_ann.fit(x=training.iloc[:,3:], y= training.iloc[:,:3], epochs = 50, validation_split = 0.3, callbacks = check1)"
      ],
      "metadata": {
        "id": "KDpkizUBZwUx"
      },
      "execution_count": 36,
      "outputs": []
    },
    {
      "cell_type": "code",
      "source": [
        "from tensorflow.keras.models import load_model"
      ],
      "metadata": {
        "id": "IZXIbXwiahdx"
      },
      "execution_count": 37,
      "outputs": []
    },
    {
      "cell_type": "code",
      "source": [
        "model_ann = load_model('/content/drive/MyDrive/RPT_SAS/array_3_ANN.hdf5')"
      ],
      "metadata": {
        "id": "JJSrG2Lrafu7"
      },
      "execution_count": 40,
      "outputs": []
    },
    {
      "cell_type": "code",
      "source": [
        "predictions_ann = model_ann.predict(test.iloc[:,3:])"
      ],
      "metadata": {
        "colab": {
          "base_uri": "https://localhost:8080/"
        },
        "id": "mwa-_PZ_aKaz",
        "outputId": "de2c4fda-3d34-4f7f-849f-bdeb3e3cec3d"
      },
      "execution_count": 41,
      "outputs": [
        {
          "output_type": "stream",
          "name": "stdout",
          "text": [
            "32/32 [==============================] - 2s 2ms/step\n"
          ]
        }
      ]
    },
    {
      "cell_type": "code",
      "source": [
        "mede_ann = mede_cal_score(test.iloc[:,:3].to_numpy(), predictions_ann)"
      ],
      "metadata": {
        "id": "5noTLYjDaWmA"
      },
      "execution_count": 42,
      "outputs": []
    },
    {
      "cell_type": "code",
      "source": [
        "mede_ann"
      ],
      "metadata": {
        "colab": {
          "base_uri": "https://localhost:8080/"
        },
        "id": "vZ1LNKFba8II",
        "outputId": "b954a6c8-196a-4f33-daad-25f61b2e5d65"
      },
      "execution_count": 43,
      "outputs": [
        {
          "output_type": "execute_result",
          "data": {
            "text/plain": [
              "0.21480441807764353"
            ]
          },
          "metadata": {},
          "execution_count": 43
        }
      ]
    },
    {
      "cell_type": "code",
      "source": [
        "mede_ann_val = mede_cal_vector(test.iloc[:,:3].to_numpy(), predictions_ann)"
      ],
      "metadata": {
        "id": "IMfkPa36bEOf"
      },
      "execution_count": 44,
      "outputs": []
    },
    {
      "cell_type": "code",
      "source": [
        "fig = plt.figure()\n",
        "ax = fig.add_subplot(111, projection='3d')\n",
        "plot_box_3d(1,0.2,0.2,axis_p=ax, alpha_val=0.2)\n",
        "for i in range(1000):\n",
        "  p=ax.scatter(test.iloc[i,0], test.iloc[i,1], test.iloc[i,2], c=mede_ann_val[i], cmap = 'bwr',vmin=0, vmax=0.5)\n",
        "cbar=fig.colorbar(p,ax=ax) \n",
        "ax.set_ylim(0,0.2)\n",
        "ax.set_zlim(0,0.2)\n",
        "ax.set_xlabel('x-axis')\n",
        "ax.set_ylabel('y-axis')\n",
        "ax.set_zlabel('z-axis')"
      ],
      "metadata": {
        "colab": {
          "base_uri": "https://localhost:8080/",
          "height": 275
        },
        "id": "v-bAWZhJbI4_",
        "outputId": "dd895b37-ecb4-4deb-f79a-f111db7cde15"
      },
      "execution_count": 45,
      "outputs": [
        {
          "output_type": "execute_result",
          "data": {
            "text/plain": [
              "Text(0.5, 0, 'z-axis')"
            ]
          },
          "metadata": {},
          "execution_count": 45
        },
        {
          "output_type": "display_data",
          "data": {
            "text/plain": [
              "<Figure size 432x288 with 2 Axes>"
            ],
            "image/png": "[encoded data removed]"
          },
          "metadata": {
            "needs_background": "light"
          }
        }
      ]
    }
  ]
}